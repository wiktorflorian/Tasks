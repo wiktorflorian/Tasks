{
 "cells": [
  {
   "attachments": {},
   "cell_type": "markdown",
   "metadata": {},
   "source": [
    "# Task description"
   ]
  },
  {
   "attachments": {},
   "cell_type": "markdown",
   "metadata": {},
   "source": [
    "Fix the provided program code according to best practices. Then train the model on the provided data."
   ]
  },
  {
   "attachments": {},
   "cell_type": "markdown",
   "metadata": {},
   "source": [
    "The purpose of the script is to teach the Random Forest model to classify based on the dimensions of a flower what species it belongs to\n",
    "\n",
    "```python\n",
    "import numpy as np\n",
    "import matplotlib.pyplot as plt\n",
    "import seaborn as sns\n",
    "import pandas as df\n",
    "from sklearn.ensemble import RandomForestRegressor as MODEL\n",
    "import json as pickle\n",
    "\n",
    "\n",
    "File = df.read_excel(\"/home/praca/Desktop/tmp.csv\")\n",
    "\n",
    "if File.shape[0] > 0:  # if there are records in the file then print the loaded data\n",
    "    print(\"Data loaded\")\n",
    "else:\n",
    "    raise Exception(\"Sorry, dataset is empty!\")\n",
    "\n",
    "columns = df.columns\n",
    "x_columns = columns[:-1]\n",
    "#y_columns = columns[] #FIXME - the last column is the column with the explained variable\n",
    "\n",
    "class = [\"Iris-setosa\", \"Iris-versicolor\", \"Iris-virginica\"]:\n",
    "    \n",
    "#assigned to the proper labeled variable's proper labeled names sequentially 1, 2 or 3    \n",
    "df[y_columns] = df[y_columns].apply(lambda x: 1 if x==class[0] else 0)\n",
    "df[y_columns] = df[y_columns].apply(lambda x: 2 if x==class[1] else 0)\n",
    "df[y_columns] = df[y_columns].apply(lambda x: 3 if x==class[2] else 0)\n",
    "\n",
    "\n",
    "#input data normalization\n",
    "for feature in x_columns:\n",
    "    max_v, min_v = df[column].max(), df[column].max()\n",
    "    values = df[column].tolist() \n",
    "    # go through all the values in a column and normalize them to the interval [0,1], check fo any non-numbers in the data\n",
    "    normalized_values = []\n",
    "    for el in values:\n",
    "        try:\n",
    "            el = float(el)\n",
    "            el_n = el/(max_v-min_v)\n",
    "            normalized_values.append(el_n)\n",
    "        except:\n",
    "            print(\"A data was found that is not a number! Replace it with zero\")\n",
    "            el_n = 0\n",
    "    #replace old values with new - normalized\n",
    "    df[column] = np.array(normalized_values)\n",
    "    \n",
    "\n",
    "from sklearn.model_selection import train_test_split\n",
    "\n",
    "tmp = 0.7\n",
    "#split data to test and train datasets\n",
    "y = df[y_columns]\n",
    "X = df[x_columns]\n",
    "learning_input, learning_output, test_input, test_output = train_test_split(X, y, test_size=tmp, random_state=42)\n",
    "\n",
    "x = MODEL(criterion=\"entropy\")\n",
    "sklearn = x.fit(learning_input, learning_output)\n",
    "pred = sklearn.predict(learning_input)\n",
    "from sklearn.metrics import accuracy_score\n",
    "ACCURACY = accuracy_score(test_output, pred)\n",
    "\n",
    "\n",
    "\n",
    "\n",
    "print(ACCURACY)\n",
    "if ACCURACY >0.7:\n",
    "    print(\"great classification result\"  ACCURACY.to_string())\n",
    "elif ACCURACY <=0.7:\n",
    "    print(\"poor classification result :(\" ACCURACY.to_string())\n",
    "\n",
    "try:\n",
    "    out_file = open(\"save.pkl\", \"rb\")\n",
    "    pickle.dump(sklearn, out_file)\n",
    "    out_file.close()\n",
    "except IndexError:\n",
    "    print(\"A SAVE error has occurred!\")\n",
    "except:\n",
    "    pass    \n",
    "finally:\n",
    "    print(\"Correctly saved the file\")\n",
    "```"
   ]
  },
  {
   "attachments": {},
   "cell_type": "markdown",
   "metadata": {},
   "source": [
    "## Code"
   ]
  },
  {
   "cell_type": "code",
   "execution_count": null,
   "metadata": {},
   "outputs": [],
   "source": []
  }
 ],
 "metadata": {
  "language_info": {
   "name": "python"
  },
  "orig_nbformat": 4
 },
 "nbformat": 4,
 "nbformat_minor": 2
}
