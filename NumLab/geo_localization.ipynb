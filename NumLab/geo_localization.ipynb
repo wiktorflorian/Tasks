{
 "cells": [
  {
   "attachments": {},
   "cell_type": "markdown",
   "metadata": {},
   "source": [
    "# Task description"
   ]
  },
  {
   "attachments": {},
   "cell_type": "markdown",
   "metadata": {},
   "source": [
    "The file geo_localization.csv contains random geolocations (latitude and longtitude) obtained using two different services, with one taken as the base value (certainly correct) and the other as the prediction result (mahy be incorrect). The task is to determine and then visualize the prediction error.\n",
    "\n",
    "Tasks:\n",
    "+ code implementing the task\n",
    "+ an .xlsx file containing the original data (without the index) with an additional error column containing the prediction error for each row\n",
    "+ graphs/charts visualizing the prediction error"
   ]
  },
  {
   "cell_type": "code",
   "execution_count": null,
   "metadata": {},
   "outputs": [],
   "source": []
  }
 ],
 "metadata": {
  "language_info": {
   "name": "python"
  },
  "orig_nbformat": 4
 },
 "nbformat": 4,
 "nbformat_minor": 2
}
