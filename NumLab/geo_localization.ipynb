{
 "cells": [
  {
   "attachments": {},
   "cell_type": "markdown",
   "metadata": {},
   "source": [
    "# Task description"
   ]
  },
  {
   "attachments": {},
   "cell_type": "markdown",
   "metadata": {},
   "source": [
    "The file geo_localization.csv contains random geolocations (latitude and longtitude) obtained using two different services, with one taken as the base value (certainly correct) and the other as the prediction result (may be incorrect). The task is to determine and then visualize the prediction error.\n",
    "\n",
    "Tasks:\n",
    "+ code implementing the task\n",
    "+ an .xlsx file containing the original data (without the index) with an additional error column containing the prediction error for each row\n",
    "+ graphs/charts visualizing the prediction error"
   ]
  },
  {
   "cell_type": "code",
   "execution_count": 44,
   "metadata": {},
   "outputs": [],
   "source": [
    "# Libraries\n",
    "import os\n",
    "import pandas as pd\n",
    "import numpy as np\n",
    "import matplotlib.pyplot as plt\n",
    "import seaborn as sns"
   ]
  },
  {
   "cell_type": "code",
   "execution_count": 45,
   "metadata": {},
   "outputs": [],
   "source": [
    "file_path = os.path.join(os.getcwd(),\"data/geo_localization.csv\")\n",
    "df = pd.read_csv(file_path, header=0)\n",
    "\n",
    "df = df.iloc[:, 1:]"
   ]
  },
  {
   "cell_type": "code",
   "execution_count": 46,
   "metadata": {},
   "outputs": [
    {
     "data": {
      "text/html": [
       "<div>\n",
       "<style scoped>\n",
       "    .dataframe tbody tr th:only-of-type {\n",
       "        vertical-align: middle;\n",
       "    }\n",
       "\n",
       "    .dataframe tbody tr th {\n",
       "        vertical-align: top;\n",
       "    }\n",
       "\n",
       "    .dataframe thead th {\n",
       "        text-align: right;\n",
       "    }\n",
       "</style>\n",
       "<table border=\"1\" class=\"dataframe\">\n",
       "  <thead>\n",
       "    <tr style=\"text-align: right;\">\n",
       "      <th></th>\n",
       "      <th>base_lat</th>\n",
       "      <th>base_lon</th>\n",
       "      <th>predicted_lat</th>\n",
       "      <th>predicted_lon</th>\n",
       "    </tr>\n",
       "  </thead>\n",
       "  <tbody>\n",
       "    <tr>\n",
       "      <th>0</th>\n",
       "      <td>52.725344</td>\n",
       "      <td>15.242907</td>\n",
       "      <td>52.725344</td>\n",
       "      <td>15.242905</td>\n",
       "    </tr>\n",
       "    <tr>\n",
       "      <th>1</th>\n",
       "      <td>52.238421</td>\n",
       "      <td>20.985096</td>\n",
       "      <td>52.238355</td>\n",
       "      <td>20.985066</td>\n",
       "    </tr>\n",
       "    <tr>\n",
       "      <th>2</th>\n",
       "      <td>51.064712</td>\n",
       "      <td>17.006516</td>\n",
       "      <td>51.064600</td>\n",
       "      <td>17.006631</td>\n",
       "    </tr>\n",
       "    <tr>\n",
       "      <th>3</th>\n",
       "      <td>50.210517</td>\n",
       "      <td>18.995660</td>\n",
       "      <td>50.210555</td>\n",
       "      <td>18.995702</td>\n",
       "    </tr>\n",
       "    <tr>\n",
       "      <th>4</th>\n",
       "      <td>51.052315</td>\n",
       "      <td>17.056584</td>\n",
       "      <td>51.052356</td>\n",
       "      <td>17.056607</td>\n",
       "    </tr>\n",
       "  </tbody>\n",
       "</table>\n",
       "</div>"
      ],
      "text/plain": [
       "    base_lat   base_lon  predicted_lat  predicted_lon\n",
       "0  52.725344  15.242907      52.725344      15.242905\n",
       "1  52.238421  20.985096      52.238355      20.985066\n",
       "2  51.064712  17.006516      51.064600      17.006631\n",
       "3  50.210517  18.995660      50.210555      18.995702\n",
       "4  51.052315  17.056584      51.052356      17.056607"
      ]
     },
     "execution_count": 46,
     "metadata": {},
     "output_type": "execute_result"
    }
   ],
   "source": [
    "df.head()"
   ]
  },
  {
   "attachments": {},
   "cell_type": "markdown",
   "metadata": {},
   "source": [
    "## Concepts\n",
    "\n",
    "I will consider two examples of error between two points. One in the two-dimensional space and second one in the real world using the Earth's radius."
   ]
  },
  {
   "cell_type": "code",
   "execution_count": 47,
   "metadata": {},
   "outputs": [],
   "source": [
    "#Variables\n",
    "base_lat = df['base_lat']\n",
    "base_lon = df['base_lon']\n",
    "pred_lat = df['predicted_lat']\n",
    "pred_lon = df['predicted_lon']"
   ]
  },
  {
   "attachments": {},
   "cell_type": "markdown",
   "metadata": {},
   "source": [
    "### Euclidean distancer"
   ]
  },
  {
   "cell_type": "code",
   "execution_count": 48,
   "metadata": {},
   "outputs": [],
   "source": [
    "def euclidean_distance(base_lat, base_lon, pred_lat, pred_lon):\n",
    "    return np.sqrt((pred_lat - base_lat)**2 + (pred_lon - base_lon)**2)"
   ]
  },
  {
   "cell_type": "code",
   "execution_count": 49,
   "metadata": {},
   "outputs": [],
   "source": [
    "df['euclidean_distance'] = euclidean_distance(base_lat, base_lon, pred_lat, pred_lon)"
   ]
  },
  {
   "attachments": {},
   "cell_type": "markdown",
   "metadata": {},
   "source": [
    "### Haversine distance"
   ]
  },
  {
   "cell_type": "code",
   "execution_count": 50,
   "metadata": {},
   "outputs": [],
   "source": [
    "def haversine_distance(base_lat, base_lon, pred_lat, pred_lon):\n",
    "    # Radius of the Earth in kilometers\n",
    "    R = 6371.0\n",
    "\n",
    "    # Convert latitude and longitude to radians\n",
    "    base_lat_rad = np.radians(base_lat)\n",
    "    base_lon_rad = np.radians(base_lon)\n",
    "    pred_lat_rad = np.radians(pred_lat)\n",
    "    pred_lon_rad = np.radians(pred_lon)\n",
    "\n",
    "    # Calculate differences between latitude and longitude\n",
    "    diff_lat = pred_lat_rad - base_lat_rad\n",
    "    diff_lon = pred_lon_rad - base_lon_rad\n",
    "    # Calculate Haversine distance\n",
    "    a = np.sin(diff_lat / 2)**2 + np.cos(base_lat_rad) * np.cos(pred_lat_rad) * np.sin(diff_lon / 2)**2\n",
    "    c = 2 * np.arctan2(np.sqrt(a), np.sqrt(1 - a))\n",
    "    distance = R * c\n",
    "\n",
    "    return distance"
   ]
  },
  {
   "cell_type": "code",
   "execution_count": 51,
   "metadata": {},
   "outputs": [],
   "source": [
    "df['haversine_distance'] = haversine_distance(base_lat, base_lon, pred_lat, pred_lon)"
   ]
  },
  {
   "cell_type": "code",
   "execution_count": 52,
   "metadata": {},
   "outputs": [
    {
     "data": {
      "text/html": [
       "<div>\n",
       "<style scoped>\n",
       "    .dataframe tbody tr th:only-of-type {\n",
       "        vertical-align: middle;\n",
       "    }\n",
       "\n",
       "    .dataframe tbody tr th {\n",
       "        vertical-align: top;\n",
       "    }\n",
       "\n",
       "    .dataframe thead th {\n",
       "        text-align: right;\n",
       "    }\n",
       "</style>\n",
       "<table border=\"1\" class=\"dataframe\">\n",
       "  <thead>\n",
       "    <tr style=\"text-align: right;\">\n",
       "      <th></th>\n",
       "      <th>base_lat</th>\n",
       "      <th>base_lon</th>\n",
       "      <th>predicted_lat</th>\n",
       "      <th>predicted_lon</th>\n",
       "      <th>euclidean_distance</th>\n",
       "      <th>haversine_distance</th>\n",
       "    </tr>\n",
       "  </thead>\n",
       "  <tbody>\n",
       "    <tr>\n",
       "      <th>0</th>\n",
       "      <td>52.725344</td>\n",
       "      <td>15.242907</td>\n",
       "      <td>52.725344</td>\n",
       "      <td>15.242905</td>\n",
       "      <td>0.000002</td>\n",
       "      <td>0.000108</td>\n",
       "    </tr>\n",
       "    <tr>\n",
       "      <th>1</th>\n",
       "      <td>52.238421</td>\n",
       "      <td>20.985096</td>\n",
       "      <td>52.238355</td>\n",
       "      <td>20.985066</td>\n",
       "      <td>0.000073</td>\n",
       "      <td>0.007678</td>\n",
       "    </tr>\n",
       "    <tr>\n",
       "      <th>2</th>\n",
       "      <td>51.064712</td>\n",
       "      <td>17.006516</td>\n",
       "      <td>51.064600</td>\n",
       "      <td>17.006631</td>\n",
       "      <td>0.000161</td>\n",
       "      <td>0.014860</td>\n",
       "    </tr>\n",
       "    <tr>\n",
       "      <th>3</th>\n",
       "      <td>50.210517</td>\n",
       "      <td>18.995660</td>\n",
       "      <td>50.210555</td>\n",
       "      <td>18.995702</td>\n",
       "      <td>0.000057</td>\n",
       "      <td>0.005166</td>\n",
       "    </tr>\n",
       "    <tr>\n",
       "      <th>4</th>\n",
       "      <td>51.052315</td>\n",
       "      <td>17.056584</td>\n",
       "      <td>51.052356</td>\n",
       "      <td>17.056607</td>\n",
       "      <td>0.000047</td>\n",
       "      <td>0.004823</td>\n",
       "    </tr>\n",
       "  </tbody>\n",
       "</table>\n",
       "</div>"
      ],
      "text/plain": [
       "    base_lat   base_lon  predicted_lat  predicted_lon  euclidean_distance  \\\n",
       "0  52.725344  15.242907      52.725344      15.242905            0.000002   \n",
       "1  52.238421  20.985096      52.238355      20.985066            0.000073   \n",
       "2  51.064712  17.006516      51.064600      17.006631            0.000161   \n",
       "3  50.210517  18.995660      50.210555      18.995702            0.000057   \n",
       "4  51.052315  17.056584      51.052356      17.056607            0.000047   \n",
       "\n",
       "   haversine_distance  \n",
       "0            0.000108  \n",
       "1            0.007678  \n",
       "2            0.014860  \n",
       "3            0.005166  \n",
       "4            0.004823  "
      ]
     },
     "execution_count": 52,
     "metadata": {},
     "output_type": "execute_result"
    }
   ],
   "source": [
    "# displaying df head\n",
    "df.head()"
   ]
  },
  {
   "cell_type": "code",
   "execution_count": 53,
   "metadata": {},
   "outputs": [],
   "source": [
    "# droping NA columns since we don't have error for them\n",
    "df.replace(\"\", np.nan, inplace=True)\n",
    "\n",
    "df = df.dropna()"
   ]
  },
  {
   "cell_type": "code",
   "execution_count": 54,
   "metadata": {},
   "outputs": [
    {
     "data": {
      "text/plain": [
       "1482"
      ]
     },
     "execution_count": 54,
     "metadata": {},
     "output_type": "execute_result"
    }
   ],
   "source": [
    "len(df)"
   ]
  },
  {
   "attachments": {},
   "cell_type": "markdown",
   "metadata": {},
   "source": [
    "### Saving dataframe as xlsx"
   ]
  },
  {
   "cell_type": "code",
   "execution_count": 42,
   "metadata": {},
   "outputs": [],
   "source": [
    "save_path = \"data/geo_localization.xlsx\"\n",
    "\n",
    "df.to_excel(save_path, index=False)"
   ]
  }
 ],
 "metadata": {
  "kernelspec": {
   "display_name": "base",
   "language": "python",
   "name": "python3"
  },
  "language_info": {
   "codemirror_mode": {
    "name": "ipython",
    "version": 3
   },
   "file_extension": ".py",
   "mimetype": "text/x-python",
   "name": "python",
   "nbconvert_exporter": "python",
   "pygments_lexer": "ipython3",
   "version": "3.10.11"
  },
  "orig_nbformat": 4
 },
 "nbformat": 4,
 "nbformat_minor": 2
}
