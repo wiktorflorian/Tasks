{
 "cells": [
  {
   "attachments": {},
   "cell_type": "markdown",
   "metadata": {},
   "source": [
    "# Task description"
   ]
  },
  {
   "attachments": {},
   "cell_type": "markdown",
   "metadata": {},
   "source": [
    "1. Improve and refactor the provided code so that it fulfills the tasks set before it correctly (worked as the euthor expected) and was of high quality (it was written with good programming practices and in the style of the Python language). Yoi can not use numpy or related (mathematical, self implementing matrix-like object) libraries.\n",
    "\n",
    "2. Based on the Matrix class, create a class representing a 2d grayscale image, additionally it should accept a dictionary with meta-data. In the print mnethod, in addition to the values also write out the meta-data\n"
   ]
  },
  {
   "attachments": {},
   "cell_type": "markdown",
   "metadata": {},
   "source": [
    "## Code\n",
    "\n",
    "```python\n",
    "class Matrix:\n",
    "\tdef __init__(self, lista_list):\n",
    "\t\tprint(\"Object created - constructor called correctly\")\n",
    "\t\tself.matrix = lista_list\n",
    "\n",
    "\t@attruibute\n",
    "\tdef prints(self, value):\n",
    "\t\tprint(self.matrix)\n",
    "\t\treturn value\n",
    "\n",
    "\tdef add_const_to_matrix(self, constant):\n",
    "\t\tself.modified_matrix = self.matrix\n",
    "\t\tfor i in range(len(self.matrix)):\n",
    "\t\t\tprint(f\"processing {i} row\")\n",
    "\t\t\tfor j in range(len(self.matrix[1]))\n",
    "\t\t\t\tprint(f\"processing {j} column\")\n",
    "\t\t\t\tself.modified_matrix[i][j] = self.matrix[i][j] + constant\n",
    "\t\tprint(\"OPERATION PREFORMED CORRECTLY\"\n",
    "\n",
    "\tdef ReplaceElement(self,x, i,j):\n",
    "\t\t'''\n",
    "\t\tOnly this method provide API to change vaule of matrix element\n",
    "\t\t'''\n",
    "\t\tself.matrix[i][j] = x\n",
    "\t\treturn 0\n",
    "```"
   ]
  },
  {
   "cell_type": "code",
   "execution_count": null,
   "metadata": {},
   "outputs": [],
   "source": []
  }
 ],
 "metadata": {
  "language_info": {
   "name": "python"
  },
  "orig_nbformat": 4
 },
 "nbformat": 4,
 "nbformat_minor": 2
}
