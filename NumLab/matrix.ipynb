{
 "cells": [
  {
   "attachments": {},
   "cell_type": "markdown",
   "metadata": {},
   "source": [
    "# Task description"
   ]
  },
  {
   "attachments": {},
   "cell_type": "markdown",
   "metadata": {},
   "source": [
    "1. Improve and refactor the provided code so that it fulfills the tasks set before it correctly (worked as the euthor expected) and was of high quality (it was written with good programming practices and in the style of the Python language). You can not use numpy or related (mathematical, self implementing matrix-like object) libraries.\n",
    "\n",
    "2. Based on the Matrix class, create a class representing a 2d grayscale image, additionally it should accept a dictionary with meta-data. In the print method, in addition to the values also write out the meta-data\n"
   ]
  },
  {
   "attachments": {},
   "cell_type": "markdown",
   "metadata": {},
   "source": [
    "## Code\n",
    "\n",
    "```python\n",
    "class Matrix:\n",
    "\tdef __init__(self, lista_list):\n",
    "\t\tprint(\"Object created - constructor called correctly\")\n",
    "\t\tself.matrix = lista_list\n",
    "\n",
    "\t@attriubte\n",
    "\tdef prints(self, value):\n",
    "\t\tprint(self.matrix)\n",
    "\t\treturn value\n",
    "\n",
    "\tdef add_const_to_matrix(self, constant):\n",
    "\t\tself.modified_matrix = self.matrix\n",
    "\t\tfor i in range(len(self.matrix)):\n",
    "\t\t\tprint(f\"processing {i} row\")\n",
    "\t\t\tfor j in range(len(self.matrix[1]))\n",
    "\t\t\t\tprint(f\"processing {j} column\")\n",
    "\t\t\t\tself.modified_matrix[i][j] = self.matrix[i][j] + constant\n",
    "\t\tprint(\"OPERATION PREFORMED CORRECTLY\"\n",
    "\n",
    "\tdef ReplaceElement(self,x, i,j):\n",
    "\t\t'''\n",
    "\t\tOnly this method provide API to change vaule of matrix element\n",
    "\t\t'''\n",
    "\t\tself.matrix[i][j] = x\n",
    "\t\treturn 0\n",
    "```"
   ]
  },
  {
   "attachments": {},
   "cell_type": "markdown",
   "metadata": {},
   "source": [
    "## 1.a"
   ]
  },
  {
   "cell_type": "code",
   "execution_count": 57,
   "metadata": {},
   "outputs": [],
   "source": [
    "class Matrix:\n",
    "    def __init__(self, lista_list):\n",
    "        print(\"Object created - constructor called correctly\")\n",
    "        self.matrix = lista_list\n",
    "\n",
    "    #@attribute To be fair I do not know why decorator was used there\n",
    "    def print_matrix(self):\n",
    "        print(self.matrix)\n",
    "\n",
    "    def add_const(self, constant):\n",
    "        self.modified_matrix = self.matrix\n",
    "        for i in range(len(self.matrix)):\n",
    "            print(f\"processing {i} row\")\n",
    "            for j in range(len(self.matrix[0])):\n",
    "                print(f\"processing {j} column\")\n",
    "                self.modified_matrix[i][j] += constant\n",
    "        print(\"OPERATION PERFORMED CORRECTLY\")\n",
    "        return Matrix(self.modified_matrix)\n",
    "\n",
    "    def replace_element(self, x, i,j):\n",
    "        '''\n",
    "        Only this method provide API to change value of matrix element\n",
    "        '''\n",
    "        self.matrix[i][j] = x\n",
    "        \n"
   ]
  },
  {
   "cell_type": "code",
   "execution_count": 58,
   "metadata": {},
   "outputs": [
    {
     "name": "stdout",
     "output_type": "stream",
     "text": [
      "Object created - constructor called correctly\n",
      "[[1, 2, 3], [4, 5, 6]]\n",
      "processing 0 row\n",
      "processing 0 column\n",
      "processing 1 column\n",
      "processing 2 column\n",
      "processing 1 row\n",
      "processing 0 column\n",
      "processing 1 column\n",
      "processing 2 column\n",
      "OPERATION PERFORMED CORRECTLY\n",
      "Object created - constructor called correctly\n",
      "Orginal matrix:\n",
      "[[6, 7, 8], [9, 10, 11]]\n",
      "Modified matriz:\n",
      "[[6, 7, 8], [9, 10, 11]]\n"
     ]
    }
   ],
   "source": [
    "# Creating list of lists\n",
    "m = [[1,2,3], [4,5,6]]\n",
    "\n",
    "# creating Matrix class object\n",
    "matrix = Matrix(m)\n",
    "\n",
    "# checking if prints work\n",
    "matrix.print_matrix()\n",
    "\n",
    "# Checking if add_const_to_martrix works\n",
    "modified_matrix = matrix.add_const(5)\n",
    "\n",
    "# Checking the results\n",
    "print(\"Orginal matrix:\")\n",
    "matrix.print_matrix()\n",
    "print(\"Modified matriz:\")\n",
    "modified_matrix.print_matrix()"
   ]
  },
  {
   "attachments": {},
   "cell_type": "markdown",
   "metadata": {},
   "source": [
    "## 1.b\n",
    "\n",
    "Different method, used ... (**ADD LATER**)"
   ]
  },
  {
   "cell_type": "code",
   "execution_count": 59,
   "metadata": {},
   "outputs": [],
   "source": [
    "class Matrix2:\n",
    "    def __init__(self, matrix):\n",
    "        self.matrix = matrix\n",
    "\n",
    "    def print_matrix(self):\n",
    "        print(self.matrix)\n",
    "\n",
    "    def add_const(self, constant):\n",
    "        self.modified_data = [[value + constant for value in row] for row in self.matrix]\n",
    "        return Matrix(self.modified_data)\n",
    "    \n",
    "    def replace_element(self, x, i,j):\n",
    "        '''\n",
    "        Only this method provide API to change value of matrix element\n",
    "        '''\n",
    "        self.matrix[i][j] = x\n",
    "        "
   ]
  },
  {
   "cell_type": "code",
   "execution_count": 60,
   "metadata": {},
   "outputs": [
    {
     "name": "stdout",
     "output_type": "stream",
     "text": [
      "[[1, 2, 3], [4, 5, 6]]\n",
      "Object created - constructor called correctly\n",
      "Orginal matrix:\n",
      "[[1, 2, 3], [4, 5, 6]]\n",
      "Modified matriz:\n",
      "[[6, 7, 8], [9, 10, 11]]\n"
     ]
    }
   ],
   "source": [
    "# Creating list of lists\n",
    "m = [[1,2,3], [4,5,6]]\n",
    "\n",
    "# creating Matrix class object\n",
    "matrix = Matrix2(m)\n",
    "\n",
    "# checking if prints work\n",
    "matrix.print_matrix()\n",
    "\n",
    "# Checking if add_const_to_martrix works\n",
    "modified_matrix = matrix.add_const(5)\n",
    "\n",
    "# Checking the results\n",
    "print(\"Orginal matrix:\")\n",
    "matrix.print_matrix()\n",
    "print(\"Modified matriz:\")\n",
    "modified_matrix.print_matrix()"
   ]
  },
  {
   "attachments": {},
   "cell_type": "markdown",
   "metadata": {},
   "source": [
    "## 2.a\n",
    "\n",
    "Creating new class based on Matrix class,\n",
    "\n",
    "additionally added method add_matrices."
   ]
  },
  {
   "cell_type": "code",
   "execution_count": 88,
   "metadata": {},
   "outputs": [],
   "source": [
    "from matplotlib import pyplot as plt\n",
    "#### worki with metadata how to use them inside plot\n",
    "class GrayscaleImage1:\n",
    "    def __init__(self, matrix, metadata=None):\n",
    "        self.matrix = matrix\n",
    "        self.metadata = metadata or {}\n",
    "\n",
    "    def print_matrix(self):\n",
    "        print(self.matrix)\n",
    "        print(self.metadata)\n",
    "\n",
    "    def add_const(self, constant):\n",
    "        self.modified_matrix = [[value + constant for value in row] for row in self.matrix]\n",
    "        return GrayscaleImage1(self.modified_matrix)\n",
    "    \n",
    "    def replace_element(self, x, i,j):\n",
    "        '''\n",
    "        Only this method provide API to change value of matrix element\n",
    "        '''\n",
    "        self.matrix[i][j] = x\n",
    "\n",
    "    def add_matrices(self, matrix_b):\n",
    "        if len(self.matrix) != len(matrix_b) and len(self.matrix[0]) != len(matrix_b[0]):\n",
    "            raise ValueError(\"You can only add matrices of the same size.\")\n",
    "\n",
    "        self.modified_matrix = [[x + y for x, y in zip(row_a, row_b)] for row_a, row_b in zip(self.matrix, matrix_b)]\n",
    "        return GrayscaleImage1(self.modified_matrix)\n",
    "\n",
    "    def show_matrix(self):\n",
    "        plt.imshow(self.matrix, cmap='gray')\n",
    "        plt.title(\"Grayscale matrix image\")\n",
    "        plt.xlabel(\"Width\")\n",
    "        plt.ylabel(\"Height\")\n",
    "        plt.show()"
   ]
  },
  {
   "cell_type": "code",
   "execution_count": 89,
   "metadata": {},
   "outputs": [],
   "source": [
    "# test usage\n",
    "matrix_a = [[1,2,3], [4,5,6]]\n",
    "matrix_b = [[60,50,40], [30,20,10]]"
   ]
  },
  {
   "cell_type": "code",
   "execution_count": 92,
   "metadata": {},
   "outputs": [
    {
     "ename": "TypeError",
     "evalue": "object of type 'GrayscaleImage1' has no len()",
     "output_type": "error",
     "traceback": [
      "\u001b[0;31m---------------------------------------------------------------------------\u001b[0m",
      "\u001b[0;31mTypeError\u001b[0m                                 Traceback (most recent call last)",
      "Cell \u001b[0;32mIn[92], line 2\u001b[0m\n\u001b[1;32m      1\u001b[0m matrix_a \u001b[39m=\u001b[39m GrayscaleImage1(matrix_a)\n\u001b[0;32m----> 2\u001b[0m matrix_ab \u001b[39m=\u001b[39m matrix_a\u001b[39m.\u001b[39;49madd_matrices(matrix_b)\n\u001b[1;32m      4\u001b[0m matrix_a\u001b[39m.\u001b[39mshow_matrix()\n\u001b[1;32m      5\u001b[0m matrix_ab\u001b[39m.\u001b[39mshow_matrix()\n",
      "Cell \u001b[0;32mIn[88], line 23\u001b[0m, in \u001b[0;36mGrayscaleImage1.add_matrices\u001b[0;34m(self, matrix_b)\u001b[0m\n\u001b[1;32m     22\u001b[0m \u001b[39mdef\u001b[39;00m \u001b[39madd_matrices\u001b[39m(\u001b[39mself\u001b[39m, matrix_b):\n\u001b[0;32m---> 23\u001b[0m     \u001b[39mif\u001b[39;00m \u001b[39mlen\u001b[39;49m(\u001b[39mself\u001b[39;49m\u001b[39m.\u001b[39;49mmatrix) \u001b[39m!=\u001b[39m \u001b[39mlen\u001b[39m(matrix_b) \u001b[39mand\u001b[39;00m \u001b[39mlen\u001b[39m(\u001b[39mself\u001b[39m\u001b[39m.\u001b[39mmatrix[\u001b[39m0\u001b[39m]) \u001b[39m!=\u001b[39m \u001b[39mlen\u001b[39m(matrix_b[\u001b[39m0\u001b[39m]):\n\u001b[1;32m     24\u001b[0m         \u001b[39mraise\u001b[39;00m \u001b[39mValueError\u001b[39;00m(\u001b[39m\"\u001b[39m\u001b[39mYou can only add matrices of the same size.\u001b[39m\u001b[39m\"\u001b[39m)\n\u001b[1;32m     26\u001b[0m     \u001b[39mself\u001b[39m\u001b[39m.\u001b[39mmodified_matrix \u001b[39m=\u001b[39m [[x \u001b[39m+\u001b[39m y \u001b[39mfor\u001b[39;00m x, y \u001b[39min\u001b[39;00m \u001b[39mzip\u001b[39m(row_a, row_b)] \u001b[39mfor\u001b[39;00m row_a, row_b \u001b[39min\u001b[39;00m \u001b[39mzip\u001b[39m(\u001b[39mself\u001b[39m\u001b[39m.\u001b[39mmatrix, matrix_b)]\n",
      "\u001b[0;31mTypeError\u001b[0m: object of type 'GrayscaleImage1' has no len()"
     ]
    }
   ],
   "source": [
    "matrix_a = GrayscaleImage1(matrix_a)\n",
    "matrix_ab = matrix_a.add_matrices(matrix_b)\n",
    "\n",
    "matrix_a.show_matrix()\n",
    "matrix_ab.show_matrix()"
   ]
  },
  {
   "cell_type": "code",
   "execution_count": null,
   "metadata": {},
   "outputs": [],
   "source": [
    "from matplotlib import pyplot as plt\n",
    "\n",
    "class GrayscaleImage:\n",
    "    def __init__(self, matrix, metadata=None):\n",
    "        self.matrix = Matrix(matrix)\n",
    "        self.metadata = metadata or {}\n",
    "\n",
    "    def print_matrix(self):\n",
    "        print(self.matrix.matrix)\n",
    "        print(self.metadata)\n",
    "    \n",
    "    def add_const_to_matrix(self, constant):\n",
    "        modified_matrix = self.matrix.add_const(constant)\n",
    "        return GrayscaleImage(modified_matrix.matrix, self.metadata)\n",
    "\n",
    "    def replace_element(self, x, i, j):\n",
    "        self.matrix.replace_element(x, i, j)\n",
    "\n",
    "    def show_image(self):\n",
    "        plt.imshow(self.matrix.matrix, cmap='gray')\n",
    "        plt.title(\"Grayscale Image\")\n",
    "        plt.xlabel(\"Width\")\n",
    "        plt.ylabel(\"Height\")\n",
    "        plt.show()\n"
   ]
  },
  {
   "cell_type": "code",
   "execution_count": null,
   "metadata": {},
   "outputs": [
    {
     "name": "stdout",
     "output_type": "stream",
     "text": [
      "Object created - constructor called correctly\n",
      "[[0, 127, 255], [64, 191, 128], [32, 96, 223]]\n",
      "{'width': 3, 'height': 3, 'format': 'PNG'}\n"
     ]
    }
   ],
   "source": [
    "\n",
    "# Example usage\n",
    "data = [\n",
    "    [0, 127, 255],\n",
    "    [64, 191, 128],\n",
    "    [32, 96, 223]\n",
    "]\n",
    "metadata = {\"width\": len(data[0]), \"height\": len(data), \"format\": \"PNG\"}\n",
    "\n",
    "image = GrayscaleImage(data, metadata)\n",
    "\n",
    "image.print_matrix()"
   ]
  },
  {
   "cell_type": "code",
   "execution_count": null,
   "metadata": {},
   "outputs": [
    {
     "data": {
      "image/png": "[encoded data removed]",
      "text/plain": [
       "<Figure size 640x480 with 1 Axes>"
      ]
     },
     "metadata": {},
     "output_type": "display_data"
    }
   ],
   "source": [
    "image.show_image()"
   ]
  },
  {
   "cell_type": "code",
   "execution_count": null,
   "metadata": {},
   "outputs": [
    {
     "name": "stdout",
     "output_type": "stream",
     "text": [
      "processing 0 row\n",
      "processing 0 column\n",
      "processing 1 column\n",
      "processing 2 column\n",
      "processing 1 row\n",
      "processing 0 column\n",
      "processing 1 column\n",
      "processing 2 column\n",
      "processing 2 row\n",
      "processing 0 column\n",
      "processing 1 column\n",
      "processing 2 column\n",
      "OPERATION PERFORMED CORRECTLY\n",
      "Object created - constructor called correctly\n",
      "Object created - constructor called correctly\n"
     ]
    },
    {
     "data": {
      "image/png": "[encoded data removed]",
      "text/plain": [
       "<Figure size 640x480 with 1 Axes>"
      ]
     },
     "metadata": {},
     "output_type": "display_data"
    },
    {
     "name": "stdout",
     "output_type": "stream",
     "text": [
      "[[100, 227, 355], [164, 291, 228], [132, 196, 323]]\n",
      "{'width': 3, 'height': 3, 'format': 'PNG'}\n"
     ]
    }
   ],
   "source": [
    "modified_image = image.add_const_to_matrix(100)\n",
    "modified_image.show_image()\n",
    "modified_image.print_matrix()"
   ]
  },
  {
   "cell_type": "code",
   "execution_count": null,
   "metadata": {},
   "outputs": [
    {
     "data": {
      "image/png": "[encoded data removed]",
      "text/plain": [
       "<Figure size 640x480 with 1 Axes>"
      ]
     },
     "metadata": {},
     "output_type": "display_data"
    },
    {
     "name": "stdout",
     "output_type": "stream",
     "text": [
      "[[100, 227, 355], [164, 255, 228], [132, 196, 323]]\n",
      "{'width': 3, 'height': 3, 'format': 'PNG'}\n"
     ]
    }
   ],
   "source": [
    "modified_image.replace_element(255, 1, 1)\n",
    "modified_image.show_image()\n",
    "modified_image.print_matrix()"
   ]
  },
  {
   "cell_type": "code",
   "execution_count": null,
   "metadata": {},
   "outputs": [
    {
     "data": {
      "image/png": "[encoded data removed]",
      "text/plain": [
       "<Figure size 640x480 with 1 Axes>"
      ]
     },
     "metadata": {},
     "output_type": "display_data"
    }
   ],
   "source": [
    "mat = [[12,22,50], [100000000,50,100]]\n",
    "\n",
    "plt.imshow(mat, cmap='gray')\n",
    "plt.title(\"Grayscale Image\")\n",
    "plt.xlabel(\"Width\")\n",
    "plt.ylabel(\"Height\")\n",
    "plt.show()"
   ]
  },
  {
   "cell_type": "code",
   "execution_count": null,
   "metadata": {},
   "outputs": [],
   "source": []
  }
 ],
 "metadata": {
  "kernelspec": {
   "display_name": "base",
   "language": "python",
   "name": "python3"
  },
  "language_info": {
   "codemirror_mode": {
    "name": "ipython",
    "version": 3
   },
   "file_extension": ".py",
   "mimetype": "text/x-python",
   "name": "python",
   "nbconvert_exporter": "python",
   "pygments_lexer": "ipython3",
   "version": "3.10.11"
  },
  "orig_nbformat": 4
 },
 "nbformat": 4,
 "nbformat_minor": 2
}
